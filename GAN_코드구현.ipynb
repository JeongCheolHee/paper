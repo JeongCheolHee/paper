{
  "nbformat": 4,
  "nbformat_minor": 0,
  "metadata": {
    "colab": {
      "provenance": [],
      "toc_visible": true,
      "gpuType": "T4",
      "authorship_tag": "ABX9TyOIRQIamAlng0/d8yk/QM3c",
      "include_colab_link": true
    },
    "kernelspec": {
      "name": "python3",
      "display_name": "Python 3"
    },
    "language_info": {
      "name": "python"
    },
    "accelerator": "GPU"
  },
  "cells": [
    {
      "cell_type": "markdown",
      "metadata": {
        "id": "view-in-github",
        "colab_type": "text"
      },
      "source": [
        "<a href=\"https://colab.research.google.com/github/JeongCheolHee/paper/blob/main/GAN_%EC%BD%94%EB%93%9C%EA%B5%AC%ED%98%84.ipynb\" target=\"_parent\"><img src=\"https://colab.research.google.com/assets/colab-badge.svg\" alt=\"Open In Colab\"/></a>"
      ]
    },
    {
      "cell_type": "markdown",
      "source": [
        "# GAN 코드 구현"
      ],
      "metadata": {
        "id": "jUXh1HxR7sfC"
      }
    },
    {
      "cell_type": "markdown",
      "source": [
        "\n",
        "\n",
        "*   논문 : Generative adversarial Networks\n",
        "    <a href=\"https://file.notion.so/f/s/8f242fd2-55d3-4006-9deb-f89b4f727540/Generative_Adversarial_Nets.pdf?id=6a860c82-7b62-4cd9-88f3-9a0d5759e04f&table=block&spaceId=727d1048-4d91-4d4d-8af2-a994df2b49e2&expirationTimestamp=1692057600000&signature=Ym2VVlbJ_CB4ldF5_wJtL82tTyqtNPU85uAajEe-hLI&downloadName=Generative+Adversarial+Nets.pdf\">PDF 파일 보기</a>\n",
        "*   학습 데이터 : MNIST\n",
        "\n",
        "\n",
        "\n",
        "\n"
      ],
      "metadata": {
        "id": "WddDPqhZ7wr1"
      }
    },
    {
      "cell_type": "markdown",
      "source": [
        "## 필요한 라이브러리 불러오기"
      ],
      "metadata": {
        "id": "K2UtS06S-p-y"
      }
    },
    {
      "cell_type": "code",
      "execution_count": 1,
      "metadata": {
        "id": "WO2CjT_kntfz"
      },
      "outputs": [],
      "source": [
        "# 파이토치 사용\n",
        "import torch\n",
        "import torch.nn as nn # 생성자와 판별자의 아키텍쳐 정의\n",
        "\n",
        "from torchvision import datasets # MNIST 불러오기\n",
        "import torchvision.transforms as transforms #전처리 과정\n",
        "from torchvision.utils import save_image # 학습 과정 이미지 출력"
      ]
    },
    {
      "cell_type": "markdown",
      "source": [
        "##생성자(Generator) 및 판별자(Discriminator) 모델 정의"
      ],
      "metadata": {
        "id": "i4miOdCT_i3p"
      }
    },
    {
      "cell_type": "code",
      "source": [
        "latent_dim = 100\n",
        "\n",
        "\n",
        "# 생성자(Generator) 클래스 정의\n",
        "class Generator(nn.Module):\n",
        "    def __init__(self):\n",
        "        super(Generator, self).__init__()\n",
        "\n",
        "        # 하나의 블록(block) 정의\n",
        "        def block(input_dim, output_dim, normalize=True):\n",
        "            layers = [nn.Linear(input_dim, output_dim)]\n",
        "            if normalize:\n",
        "                # 배치 정규화(batch normalization) 수행(차원 동일)\n",
        "                layers.append(nn.BatchNorm1d(output_dim, 0.8))\n",
        "            layers.append(nn.LeakyReLU(0.2, inplace=True))\n",
        "            return layers\n",
        "\n",
        "        # 생성자 모델은 연속적인 여러 개의 블록을 가짐\n",
        "        self.model = nn.Sequential(\n",
        "            *block(latent_dim, 128, normalize=False),\n",
        "            *block(128, 256),\n",
        "            *block(256, 512),\n",
        "            *block(512, 1024),\n",
        "            nn.Linear(1024, 1 * 28 * 28),\n",
        "            nn.Tanh()\n",
        "        )\n",
        "\n",
        "    def forward(self, z):\n",
        "        img = self.model(z)\n",
        "        img = img.view(img.size(0), 1, 28, 28)\n",
        "        return img"
      ],
      "metadata": {
        "id": "-X9LqPxJ-vgG"
      },
      "execution_count": 2,
      "outputs": []
    },
    {
      "cell_type": "code",
      "source": [
        "# 판별자(Discriminator) 클래스 정의\n",
        "class Discriminator(nn.Module):\n",
        "    def __init__(self):\n",
        "        super(Discriminator, self).__init__()\n",
        "\n",
        "        self.model = nn.Sequential(\n",
        "            nn.Linear(1 * 28 * 28, 512),\n",
        "            nn.LeakyReLU(0.2, inplace=True),\n",
        "            nn.Linear(512, 256),\n",
        "            nn.LeakyReLU(0.2, inplace=True),\n",
        "            nn.Linear(256, 1),\n",
        "            nn.Sigmoid(),\n",
        "        )\n",
        "\n",
        "    # 이미지에 대한 판별 결과를 반환\n",
        "    def forward(self, img):\n",
        "        flattened = img.view(img.size(0), -1)\n",
        "        output = self.model(flattened)\n",
        "\n",
        "        return output"
      ],
      "metadata": {
        "id": "2c641MP-_mh8"
      },
      "execution_count": 3,
      "outputs": []
    },
    {
      "cell_type": "markdown",
      "source": [
        "## 학습 데이터셋 불러오기"
      ],
      "metadata": {
        "id": "W_vls12P_olw"
      }
    },
    {
      "cell_type": "code",
      "source": [
        "transforms_train = transforms.Compose([\n",
        "    transforms.Resize(28),\n",
        "    transforms.ToTensor(),\n",
        "    transforms.Normalize([0.5], [0.5])\n",
        "])\n",
        "\n",
        "train_dataset = datasets.MNIST(root=\"./dataset\", train=True, download=True, transform=transforms_train)\n",
        "dataloader = torch.utils.data.DataLoader(train_dataset, batch_size=128, shuffle=True, num_workers=4)"
      ],
      "metadata": {
        "colab": {
          "base_uri": "https://localhost:8080/"
        },
        "id": "LOyxuDei_syy",
        "outputId": "dad13998-8ddc-49f9-aaf9-c6dd8a53c633"
      },
      "execution_count": 4,
      "outputs": [
        {
          "output_type": "stream",
          "name": "stdout",
          "text": [
            "Downloading http://yann.lecun.com/exdb/mnist/train-images-idx3-ubyte.gz\n",
            "Downloading http://yann.lecun.com/exdb/mnist/train-images-idx3-ubyte.gz to ./dataset/MNIST/raw/train-images-idx3-ubyte.gz\n"
          ]
        },
        {
          "output_type": "stream",
          "name": "stderr",
          "text": [
            "100%|██████████| 9912422/9912422 [00:00<00:00, 372252018.98it/s]"
          ]
        },
        {
          "output_type": "stream",
          "name": "stdout",
          "text": [
            "Extracting ./dataset/MNIST/raw/train-images-idx3-ubyte.gz to ./dataset/MNIST/raw\n"
          ]
        },
        {
          "output_type": "stream",
          "name": "stderr",
          "text": [
            "\n"
          ]
        },
        {
          "output_type": "stream",
          "name": "stdout",
          "text": [
            "\n",
            "Downloading http://yann.lecun.com/exdb/mnist/train-labels-idx1-ubyte.gz\n",
            "Downloading http://yann.lecun.com/exdb/mnist/train-labels-idx1-ubyte.gz to ./dataset/MNIST/raw/train-labels-idx1-ubyte.gz\n"
          ]
        },
        {
          "output_type": "stream",
          "name": "stderr",
          "text": [
            "100%|██████████| 28881/28881 [00:00<00:00, 112475110.33it/s]"
          ]
        },
        {
          "output_type": "stream",
          "name": "stdout",
          "text": [
            "Extracting ./dataset/MNIST/raw/train-labels-idx1-ubyte.gz to ./dataset/MNIST/raw\n",
            "\n",
            "Downloading http://yann.lecun.com/exdb/mnist/t10k-images-idx3-ubyte.gz\n",
            "Downloading http://yann.lecun.com/exdb/mnist/t10k-images-idx3-ubyte.gz to ./dataset/MNIST/raw/t10k-images-idx3-ubyte.gz\n"
          ]
        },
        {
          "output_type": "stream",
          "name": "stderr",
          "text": [
            "\n",
            "100%|██████████| 1648877/1648877 [00:00<00:00, 192573480.26it/s]\n"
          ]
        },
        {
          "output_type": "stream",
          "name": "stdout",
          "text": [
            "Extracting ./dataset/MNIST/raw/t10k-images-idx3-ubyte.gz to ./dataset/MNIST/raw\n",
            "\n",
            "Downloading http://yann.lecun.com/exdb/mnist/t10k-labels-idx1-ubyte.gz\n",
            "Downloading http://yann.lecun.com/exdb/mnist/t10k-labels-idx1-ubyte.gz to ./dataset/MNIST/raw/t10k-labels-idx1-ubyte.gz\n"
          ]
        },
        {
          "output_type": "stream",
          "name": "stderr",
          "text": [
            "100%|██████████| 4542/4542 [00:00<00:00, 21050308.03it/s]\n"
          ]
        },
        {
          "output_type": "stream",
          "name": "stdout",
          "text": [
            "Extracting ./dataset/MNIST/raw/t10k-labels-idx1-ubyte.gz to ./dataset/MNIST/raw\n",
            "\n"
          ]
        },
        {
          "output_type": "stream",
          "name": "stderr",
          "text": [
            "/usr/local/lib/python3.10/dist-packages/torch/utils/data/dataloader.py:560: UserWarning: This DataLoader will create 4 worker processes in total. Our suggested max number of worker in current system is 2, which is smaller than what this DataLoader is going to create. Please be aware that excessive worker creation might get DataLoader running slow or even freeze, lower the worker number to avoid potential slowness/freeze if necessary.\n",
            "  warnings.warn(_create_warning_msg(\n"
          ]
        }
      ]
    },
    {
      "cell_type": "markdown",
      "source": [
        "##모델 학습 및 샘플링\n",
        "\n",
        "*   학습을 위해 생성자와 판별자 모델 초기화\n",
        "*   적절한 하이퍼파라미터 설정\n",
        "\n"
      ],
      "metadata": {
        "id": "fGQv8xjJ_vDq"
      }
    },
    {
      "cell_type": "code",
      "source": [
        "# 생성자(generator)와 판별자(discriminator) 초기화\n",
        "generator = Generator()\n",
        "discriminator = Discriminator()\n",
        "\n",
        "generator.cuda()\n",
        "discriminator.cuda()\n",
        "\n",
        "# 손실 함수(loss function)\n",
        "adversarial_loss = nn.BCELoss()\n",
        "adversarial_loss.cuda()\n",
        "\n",
        "# 학습률(learning rate) 설정\n",
        "lr = 0.0002\n",
        "\n",
        "# 생성자와 판별자를 위한 최적화 함수\n",
        "optimizer_G = torch.optim.Adam(generator.parameters(), lr=lr, betas=(0.5, 0.999))\n",
        "optimizer_D = torch.optim.Adam(discriminator.parameters(), lr=lr, betas=(0.5, 0.999))"
      ],
      "metadata": {
        "id": "E7iIFex-_5Z0"
      },
      "execution_count": 5,
      "outputs": []
    },
    {
      "cell_type": "code",
      "source": [
        "import time\n",
        "\n",
        "n_epochs = 200 # 학습의 횟수(epoch) 설정\n",
        "sample_interval = 2000 # 몇 번의 배치(batch)마다 결과를 출력할 것인지 설정\n",
        "start_time = time.time()\n",
        "\n",
        "for epoch in range(n_epochs):\n",
        "    for i, (imgs, _) in enumerate(dataloader):\n",
        "\n",
        "        # 진짜(real) 이미지와 가짜(fake) 이미지에 대한 정답 레이블 생성\n",
        "        real = torch.cuda.FloatTensor(imgs.size(0), 1).fill_(1.0) # 진짜(real): 1\n",
        "        fake = torch.cuda.FloatTensor(imgs.size(0), 1).fill_(0.0) # 가짜(fake): 0\n",
        "\n",
        "        real_imgs = imgs.cuda()\n",
        "\n",
        "        \"\"\" 생성자(generator)를 학습합니다. \"\"\"\n",
        "        optimizer_G.zero_grad()\n",
        "\n",
        "        # 랜덤 노이즈(noise) 샘플링\n",
        "        z = torch.normal(mean=0, std=1, size=(imgs.shape[0], latent_dim)).cuda()\n",
        "\n",
        "        # 이미지 생성\n",
        "        generated_imgs = generator(z)\n",
        "\n",
        "        # 생성자(generator)의 손실(loss) 값 계산\n",
        "        g_loss = adversarial_loss(discriminator(generated_imgs), real)\n",
        "\n",
        "        # 생성자(generator) 업데이트\n",
        "        g_loss.backward()\n",
        "        optimizer_G.step()\n",
        "\n",
        "        \"\"\" 판별자(discriminator)를 학습합니다. \"\"\"\n",
        "        optimizer_D.zero_grad()\n",
        "\n",
        "        # 판별자(discriminator)의 손실(loss) 값 계산\n",
        "        real_loss = adversarial_loss(discriminator(real_imgs), real)\n",
        "        fake_loss = adversarial_loss(discriminator(generated_imgs.detach()), fake)\n",
        "        d_loss = (real_loss + fake_loss) / 2\n",
        "\n",
        "        # 판별자(discriminator) 업데이트\n",
        "        d_loss.backward()\n",
        "        optimizer_D.step()\n",
        "\n",
        "        done = epoch * len(dataloader) + i\n",
        "        if done % sample_interval == 0:\n",
        "            # 생성된 이미지 중에서 25개만 선택하여 5 X 5 격자 이미지에 출력\n",
        "            save_image(generated_imgs.data[:25], f\"{done}.png\", nrow=5, normalize=True)\n",
        "\n",
        "    # 하나의 epoch이 끝날 때마다 로그(log) 출력\n",
        "    print(f\"[Epoch {epoch}/{n_epochs}] [D loss: {d_loss.item():.6f}] [G loss: {g_loss.item():.6f}] [Elapsed time: {time.time() - start_time:.2f}s]\")"
      ],
      "metadata": {
        "colab": {
          "base_uri": "https://localhost:8080/"
        },
        "id": "oc14w5y6_9d2",
        "outputId": "3df20226-fe47-429f-ea50-720b00539336"
      },
      "execution_count": 6,
      "outputs": [
        {
          "output_type": "stream",
          "name": "stdout",
          "text": [
            "[Epoch 0/200] [D loss: 0.637676] [G loss: 1.543643] [Elapsed time: 21.91s]\n",
            "[Epoch 1/200] [D loss: 0.543998] [G loss: 0.543446] [Elapsed time: 36.62s]\n",
            "[Epoch 2/200] [D loss: 0.466527] [G loss: 2.233311] [Elapsed time: 51.45s]\n",
            "[Epoch 3/200] [D loss: 0.382086] [G loss: 1.577314] [Elapsed time: 66.34s]\n",
            "[Epoch 4/200] [D loss: 0.262612] [G loss: 1.498208] [Elapsed time: 81.30s]\n",
            "[Epoch 5/200] [D loss: 0.370482] [G loss: 2.185177] [Elapsed time: 97.21s]\n",
            "[Epoch 6/200] [D loss: 0.421748] [G loss: 0.659997] [Elapsed time: 112.54s]\n",
            "[Epoch 7/200] [D loss: 0.252425] [G loss: 1.623384] [Elapsed time: 127.47s]\n",
            "[Epoch 8/200] [D loss: 0.308261] [G loss: 1.172842] [Elapsed time: 142.47s]\n",
            "[Epoch 9/200] [D loss: 0.661965] [G loss: 5.262400] [Elapsed time: 157.19s]\n",
            "[Epoch 10/200] [D loss: 0.734141] [G loss: 4.110980] [Elapsed time: 172.54s]\n",
            "[Epoch 11/200] [D loss: 0.206946] [G loss: 2.736182] [Elapsed time: 187.95s]\n",
            "[Epoch 12/200] [D loss: 0.386274] [G loss: 3.956741] [Elapsed time: 202.70s]\n",
            "[Epoch 13/200] [D loss: 0.173765] [G loss: 2.243723] [Elapsed time: 217.39s]\n",
            "[Epoch 14/200] [D loss: 0.124586] [G loss: 2.353294] [Elapsed time: 232.23s]\n",
            "[Epoch 15/200] [D loss: 0.267715] [G loss: 1.787575] [Elapsed time: 247.39s]\n",
            "[Epoch 16/200] [D loss: 0.270133] [G loss: 3.483030] [Elapsed time: 262.95s]\n",
            "[Epoch 17/200] [D loss: 0.126952] [G loss: 2.439130] [Elapsed time: 278.42s]\n",
            "[Epoch 18/200] [D loss: 0.213951] [G loss: 3.327697] [Elapsed time: 293.66s]\n",
            "[Epoch 19/200] [D loss: 0.119816] [G loss: 2.474161] [Elapsed time: 309.09s]\n",
            "[Epoch 20/200] [D loss: 0.242142] [G loss: 1.575409] [Elapsed time: 324.39s]\n",
            "[Epoch 21/200] [D loss: 0.146126] [G loss: 1.799964] [Elapsed time: 339.77s]\n",
            "[Epoch 22/200] [D loss: 0.184485] [G loss: 1.772348] [Elapsed time: 355.78s]\n",
            "[Epoch 23/200] [D loss: 0.093552] [G loss: 2.242115] [Elapsed time: 371.17s]\n",
            "[Epoch 24/200] [D loss: 0.160156] [G loss: 1.571585] [Elapsed time: 386.45s]\n",
            "[Epoch 25/200] [D loss: 0.243554] [G loss: 2.673068] [Elapsed time: 401.62s]\n",
            "[Epoch 26/200] [D loss: 0.140924] [G loss: 1.904241] [Elapsed time: 416.93s]\n",
            "[Epoch 27/200] [D loss: 0.284687] [G loss: 1.401338] [Elapsed time: 433.15s]\n",
            "[Epoch 28/200] [D loss: 0.188674] [G loss: 1.721441] [Elapsed time: 448.58s]\n",
            "[Epoch 29/200] [D loss: 0.291874] [G loss: 1.221857] [Elapsed time: 463.68s]\n",
            "[Epoch 30/200] [D loss: 0.177760] [G loss: 2.808657] [Elapsed time: 478.62s]\n",
            "[Epoch 31/200] [D loss: 0.157472] [G loss: 1.798563] [Elapsed time: 493.79s]\n",
            "[Epoch 32/200] [D loss: 0.159591] [G loss: 2.783853] [Elapsed time: 509.67s]\n",
            "[Epoch 33/200] [D loss: 0.232116] [G loss: 5.034628] [Elapsed time: 524.79s]\n",
            "[Epoch 34/200] [D loss: 0.133665] [G loss: 3.461469] [Elapsed time: 540.04s]\n",
            "[Epoch 35/200] [D loss: 0.151909] [G loss: 2.099894] [Elapsed time: 555.31s]\n",
            "[Epoch 36/200] [D loss: 0.170967] [G loss: 2.690933] [Elapsed time: 570.53s]\n",
            "[Epoch 37/200] [D loss: 0.165278] [G loss: 2.342093] [Elapsed time: 585.86s]\n",
            "[Epoch 38/200] [D loss: 0.265714] [G loss: 1.626348] [Elapsed time: 601.43s]\n",
            "[Epoch 39/200] [D loss: 0.357866] [G loss: 1.524598] [Elapsed time: 616.62s]\n",
            "[Epoch 40/200] [D loss: 0.284207] [G loss: 2.223176] [Elapsed time: 631.79s]\n",
            "[Epoch 41/200] [D loss: 0.184464] [G loss: 2.053662] [Elapsed time: 646.80s]\n",
            "[Epoch 42/200] [D loss: 0.241463] [G loss: 1.591776] [Elapsed time: 661.92s]\n",
            "[Epoch 43/200] [D loss: 0.275583] [G loss: 1.715819] [Elapsed time: 678.17s]\n",
            "[Epoch 44/200] [D loss: 0.292116] [G loss: 1.627530] [Elapsed time: 693.21s]\n",
            "[Epoch 45/200] [D loss: 0.263011] [G loss: 2.188026] [Elapsed time: 707.98s]\n",
            "[Epoch 46/200] [D loss: 0.146543] [G loss: 2.389896] [Elapsed time: 722.90s]\n",
            "[Epoch 47/200] [D loss: 0.236477] [G loss: 4.519057] [Elapsed time: 737.81s]\n",
            "[Epoch 48/200] [D loss: 0.227088] [G loss: 2.976683] [Elapsed time: 752.70s]\n",
            "[Epoch 49/200] [D loss: 0.350848] [G loss: 1.116699] [Elapsed time: 768.29s]\n",
            "[Epoch 50/200] [D loss: 0.309789] [G loss: 2.238567] [Elapsed time: 783.46s]\n",
            "[Epoch 51/200] [D loss: 0.193868] [G loss: 2.129794] [Elapsed time: 798.29s]\n",
            "[Epoch 52/200] [D loss: 0.562856] [G loss: 0.654365] [Elapsed time: 812.98s]\n",
            "[Epoch 53/200] [D loss: 0.293421] [G loss: 2.184723] [Elapsed time: 827.83s]\n",
            "[Epoch 54/200] [D loss: 0.318698] [G loss: 1.467379] [Elapsed time: 842.55s]\n",
            "[Epoch 55/200] [D loss: 0.408151] [G loss: 3.735801] [Elapsed time: 858.16s]\n",
            "[Epoch 56/200] [D loss: 0.285814] [G loss: 1.244390] [Elapsed time: 873.03s]\n",
            "[Epoch 57/200] [D loss: 0.320265] [G loss: 2.011809] [Elapsed time: 887.71s]\n",
            "[Epoch 58/200] [D loss: 0.256556] [G loss: 1.245736] [Elapsed time: 902.47s]\n",
            "[Epoch 59/200] [D loss: 0.211704] [G loss: 1.861618] [Elapsed time: 917.21s]\n",
            "[Epoch 60/200] [D loss: 0.168131] [G loss: 2.382149] [Elapsed time: 931.94s]\n",
            "[Epoch 61/200] [D loss: 0.209850] [G loss: 2.349497] [Elapsed time: 946.90s]\n",
            "[Epoch 62/200] [D loss: 0.302619] [G loss: 2.814013] [Elapsed time: 962.42s]\n",
            "[Epoch 63/200] [D loss: 0.245804] [G loss: 1.701142] [Elapsed time: 977.32s]\n",
            "[Epoch 64/200] [D loss: 0.268452] [G loss: 1.997407] [Elapsed time: 992.20s]\n",
            "[Epoch 65/200] [D loss: 0.199140] [G loss: 2.406670] [Elapsed time: 1006.96s]\n",
            "[Epoch 66/200] [D loss: 0.236914] [G loss: 1.683628] [Elapsed time: 1021.82s]\n",
            "[Epoch 67/200] [D loss: 0.217013] [G loss: 1.701528] [Elapsed time: 1036.90s]\n",
            "[Epoch 68/200] [D loss: 0.273103] [G loss: 2.356646] [Elapsed time: 1052.34s]\n",
            "[Epoch 69/200] [D loss: 0.194557] [G loss: 2.561265] [Elapsed time: 1066.95s]\n",
            "[Epoch 70/200] [D loss: 0.199853] [G loss: 1.924902] [Elapsed time: 1081.76s]\n",
            "[Epoch 71/200] [D loss: 0.236306] [G loss: 2.361615] [Elapsed time: 1096.75s]\n",
            "[Epoch 72/200] [D loss: 0.227645] [G loss: 3.147575] [Elapsed time: 1111.64s]\n",
            "[Epoch 73/200] [D loss: 0.162369] [G loss: 2.503681] [Elapsed time: 1126.38s]\n",
            "[Epoch 74/200] [D loss: 0.188621] [G loss: 1.981207] [Elapsed time: 1142.26s]\n",
            "[Epoch 75/200] [D loss: 0.339916] [G loss: 1.191112] [Elapsed time: 1157.45s]\n",
            "[Epoch 76/200] [D loss: 0.186354] [G loss: 2.742891] [Elapsed time: 1172.61s]\n",
            "[Epoch 77/200] [D loss: 0.241158] [G loss: 3.233011] [Elapsed time: 1188.06s]\n",
            "[Epoch 78/200] [D loss: 0.276230] [G loss: 1.700503] [Elapsed time: 1203.19s]\n",
            "[Epoch 79/200] [D loss: 0.212103] [G loss: 2.516984] [Elapsed time: 1219.13s]\n",
            "[Epoch 80/200] [D loss: 0.196616] [G loss: 2.094223] [Elapsed time: 1234.11s]\n",
            "[Epoch 81/200] [D loss: 0.231497] [G loss: 2.433758] [Elapsed time: 1248.85s]\n",
            "[Epoch 82/200] [D loss: 0.208093] [G loss: 1.932101] [Elapsed time: 1263.65s]\n",
            "[Epoch 83/200] [D loss: 0.265139] [G loss: 3.011115] [Elapsed time: 1278.63s]\n",
            "[Epoch 84/200] [D loss: 0.253591] [G loss: 1.401499] [Elapsed time: 1293.50s]\n",
            "[Epoch 85/200] [D loss: 0.318270] [G loss: 2.305774] [Elapsed time: 1308.88s]\n",
            "[Epoch 86/200] [D loss: 0.159243] [G loss: 2.328709] [Elapsed time: 1323.92s]\n",
            "[Epoch 87/200] [D loss: 0.392418] [G loss: 3.489249] [Elapsed time: 1338.94s]\n",
            "[Epoch 88/200] [D loss: 0.181647] [G loss: 2.982092] [Elapsed time: 1353.71s]\n",
            "[Epoch 89/200] [D loss: 0.226020] [G loss: 2.374980] [Elapsed time: 1368.58s]\n",
            "[Epoch 90/200] [D loss: 0.652840] [G loss: 5.742229] [Elapsed time: 1383.38s]\n",
            "[Epoch 91/200] [D loss: 0.253935] [G loss: 2.687303] [Elapsed time: 1399.73s]\n",
            "[Epoch 92/200] [D loss: 0.192055] [G loss: 2.334578] [Elapsed time: 1416.29s]\n",
            "[Epoch 93/200] [D loss: 0.300736] [G loss: 2.024746] [Elapsed time: 1432.65s]\n",
            "[Epoch 94/200] [D loss: 0.263585] [G loss: 1.986237] [Elapsed time: 1448.01s]\n",
            "[Epoch 95/200] [D loss: 0.228835] [G loss: 2.525487] [Elapsed time: 1463.66s]\n",
            "[Epoch 96/200] [D loss: 0.265362] [G loss: 2.023941] [Elapsed time: 1479.23s]\n",
            "[Epoch 97/200] [D loss: 0.273025] [G loss: 2.558456] [Elapsed time: 1494.34s]\n",
            "[Epoch 98/200] [D loss: 0.334626] [G loss: 1.369658] [Elapsed time: 1509.40s]\n",
            "[Epoch 99/200] [D loss: 0.274733] [G loss: 1.967084] [Elapsed time: 1524.54s]\n",
            "[Epoch 100/200] [D loss: 0.349560] [G loss: 2.169728] [Elapsed time: 1539.58s]\n",
            "[Epoch 101/200] [D loss: 0.283439] [G loss: 1.402799] [Elapsed time: 1555.05s]\n",
            "[Epoch 102/200] [D loss: 0.236575] [G loss: 2.369646] [Elapsed time: 1570.48s]\n",
            "[Epoch 103/200] [D loss: 0.256541] [G loss: 2.048803] [Elapsed time: 1585.68s]\n",
            "[Epoch 104/200] [D loss: 0.289982] [G loss: 2.206703] [Elapsed time: 1600.57s]\n",
            "[Epoch 105/200] [D loss: 0.284826] [G loss: 2.654903] [Elapsed time: 1615.86s]\n",
            "[Epoch 106/200] [D loss: 0.412907] [G loss: 3.436557] [Elapsed time: 1631.39s]\n",
            "[Epoch 107/200] [D loss: 0.246395] [G loss: 2.493652] [Elapsed time: 1647.78s]\n",
            "[Epoch 108/200] [D loss: 0.200107] [G loss: 2.277029] [Elapsed time: 1663.21s]\n",
            "[Epoch 109/200] [D loss: 0.313090] [G loss: 2.203743] [Elapsed time: 1678.51s]\n",
            "[Epoch 110/200] [D loss: 0.309829] [G loss: 1.695228] [Elapsed time: 1693.75s]\n",
            "[Epoch 111/200] [D loss: 0.387327] [G loss: 1.020939] [Elapsed time: 1709.26s]\n",
            "[Epoch 112/200] [D loss: 0.208758] [G loss: 1.844161] [Elapsed time: 1725.08s]\n",
            "[Epoch 113/200] [D loss: 0.233717] [G loss: 2.413963] [Elapsed time: 1740.14s]\n",
            "[Epoch 114/200] [D loss: 0.402713] [G loss: 3.734745] [Elapsed time: 1755.48s]\n",
            "[Epoch 115/200] [D loss: 0.304598] [G loss: 1.605629] [Elapsed time: 1770.73s]\n",
            "[Epoch 116/200] [D loss: 0.291187] [G loss: 1.399925] [Elapsed time: 1785.81s]\n",
            "[Epoch 117/200] [D loss: 0.201931] [G loss: 2.322139] [Elapsed time: 1802.27s]\n",
            "[Epoch 118/200] [D loss: 0.237024] [G loss: 1.775847] [Elapsed time: 1818.03s]\n",
            "[Epoch 119/200] [D loss: 0.321137] [G loss: 2.121455] [Elapsed time: 1833.77s]\n",
            "[Epoch 120/200] [D loss: 0.316269] [G loss: 1.206058] [Elapsed time: 1849.34s]\n",
            "[Epoch 121/200] [D loss: 0.406112] [G loss: 1.498891] [Elapsed time: 1865.64s]\n",
            "[Epoch 122/200] [D loss: 0.303060] [G loss: 3.818702] [Elapsed time: 1881.85s]\n",
            "[Epoch 123/200] [D loss: 0.193622] [G loss: 2.784578] [Elapsed time: 1897.59s]\n",
            "[Epoch 124/200] [D loss: 0.279228] [G loss: 2.067665] [Elapsed time: 1913.21s]\n",
            "[Epoch 125/200] [D loss: 0.399107] [G loss: 2.852494] [Elapsed time: 1928.91s]\n",
            "[Epoch 126/200] [D loss: 0.268011] [G loss: 2.122526] [Elapsed time: 1945.88s]\n",
            "[Epoch 127/200] [D loss: 0.292448] [G loss: 1.899319] [Elapsed time: 1961.46s]\n",
            "[Epoch 128/200] [D loss: 0.300301] [G loss: 2.008234] [Elapsed time: 1977.25s]\n",
            "[Epoch 129/200] [D loss: 0.329211] [G loss: 2.120628] [Elapsed time: 1992.94s]\n",
            "[Epoch 130/200] [D loss: 0.269834] [G loss: 2.877869] [Elapsed time: 2009.82s]\n",
            "[Epoch 131/200] [D loss: 0.336877] [G loss: 1.446257] [Elapsed time: 2025.26s]\n",
            "[Epoch 132/200] [D loss: 0.360747] [G loss: 2.231624] [Elapsed time: 2040.89s]\n",
            "[Epoch 133/200] [D loss: 0.240237] [G loss: 2.448919] [Elapsed time: 2056.54s]\n",
            "[Epoch 134/200] [D loss: 0.252091] [G loss: 3.313624] [Elapsed time: 2072.39s]\n",
            "[Epoch 135/200] [D loss: 0.352156] [G loss: 1.205532] [Elapsed time: 2088.66s]\n",
            "[Epoch 136/200] [D loss: 0.296131] [G loss: 2.744963] [Elapsed time: 2104.17s]\n",
            "[Epoch 137/200] [D loss: 0.320724] [G loss: 1.623674] [Elapsed time: 2119.88s]\n",
            "[Epoch 138/200] [D loss: 0.250939] [G loss: 2.474015] [Elapsed time: 2135.60s]\n",
            "[Epoch 139/200] [D loss: 0.216273] [G loss: 2.643583] [Elapsed time: 2152.21s]\n",
            "[Epoch 140/200] [D loss: 0.256223] [G loss: 3.435428] [Elapsed time: 2168.14s]\n",
            "[Epoch 141/200] [D loss: 0.260959] [G loss: 2.627809] [Elapsed time: 2184.17s]\n",
            "[Epoch 142/200] [D loss: 0.285989] [G loss: 1.876675] [Elapsed time: 2200.20s]\n",
            "[Epoch 143/200] [D loss: 0.261944] [G loss: 2.362200] [Elapsed time: 2216.88s]\n",
            "[Epoch 144/200] [D loss: 0.345423] [G loss: 2.085115] [Elapsed time: 2232.68s]\n",
            "[Epoch 145/200] [D loss: 0.217928] [G loss: 1.815148] [Elapsed time: 2248.51s]\n",
            "[Epoch 146/200] [D loss: 0.210282] [G loss: 2.359257] [Elapsed time: 2264.17s]\n",
            "[Epoch 147/200] [D loss: 0.215769] [G loss: 1.948007] [Elapsed time: 2280.14s]\n",
            "[Epoch 148/200] [D loss: 0.250451] [G loss: 1.987195] [Elapsed time: 2296.35s]\n",
            "[Epoch 149/200] [D loss: 0.376548] [G loss: 1.202819] [Elapsed time: 2312.23s]\n",
            "[Epoch 150/200] [D loss: 0.208167] [G loss: 2.166445] [Elapsed time: 2327.71s]\n",
            "[Epoch 151/200] [D loss: 0.219189] [G loss: 2.884260] [Elapsed time: 2343.47s]\n",
            "[Epoch 152/200] [D loss: 0.274665] [G loss: 1.717124] [Elapsed time: 2360.07s]\n",
            "[Epoch 153/200] [D loss: 0.318527] [G loss: 2.396368] [Elapsed time: 2375.82s]\n",
            "[Epoch 154/200] [D loss: 0.289270] [G loss: 2.190455] [Elapsed time: 2391.28s]\n",
            "[Epoch 155/200] [D loss: 0.203556] [G loss: 2.678502] [Elapsed time: 2406.78s]\n",
            "[Epoch 156/200] [D loss: 0.237451] [G loss: 3.094411] [Elapsed time: 2422.95s]\n",
            "[Epoch 157/200] [D loss: 0.305669] [G loss: 1.862127] [Elapsed time: 2439.20s]\n",
            "[Epoch 158/200] [D loss: 0.298750] [G loss: 2.475313] [Elapsed time: 2454.60s]\n",
            "[Epoch 159/200] [D loss: 0.379508] [G loss: 1.309625] [Elapsed time: 2470.10s]\n",
            "[Epoch 160/200] [D loss: 0.211991] [G loss: 1.926025] [Elapsed time: 2485.74s]\n",
            "[Epoch 161/200] [D loss: 0.227637] [G loss: 1.768821] [Elapsed time: 2502.55s]\n",
            "[Epoch 162/200] [D loss: 0.312682] [G loss: 1.827985] [Elapsed time: 2518.24s]\n",
            "[Epoch 163/200] [D loss: 0.266984] [G loss: 2.341057] [Elapsed time: 2533.89s]\n",
            "[Epoch 164/200] [D loss: 0.267961] [G loss: 2.888123] [Elapsed time: 2549.73s]\n",
            "[Epoch 165/200] [D loss: 0.279181] [G loss: 1.779033] [Elapsed time: 2566.22s]\n",
            "[Epoch 166/200] [D loss: 0.215595] [G loss: 1.789036] [Elapsed time: 2582.01s]\n",
            "[Epoch 167/200] [D loss: 0.260128] [G loss: 2.625269] [Elapsed time: 2597.67s]\n",
            "[Epoch 168/200] [D loss: 0.254240] [G loss: 1.760840] [Elapsed time: 2613.61s]\n",
            "[Epoch 169/200] [D loss: 0.223444] [G loss: 2.132676] [Elapsed time: 2629.62s]\n",
            "[Epoch 170/200] [D loss: 0.341576] [G loss: 1.107668] [Elapsed time: 2645.91s]\n",
            "[Epoch 171/200] [D loss: 0.383672] [G loss: 3.049140] [Elapsed time: 2661.69s]\n",
            "[Epoch 172/200] [D loss: 0.312201] [G loss: 1.804144] [Elapsed time: 2677.74s]\n",
            "[Epoch 173/200] [D loss: 0.277407] [G loss: 2.709405] [Elapsed time: 2693.57s]\n",
            "[Epoch 174/200] [D loss: 0.237757] [G loss: 3.123714] [Elapsed time: 2710.12s]\n",
            "[Epoch 175/200] [D loss: 0.293962] [G loss: 1.701287] [Elapsed time: 2725.97s]\n",
            "[Epoch 176/200] [D loss: 0.204798] [G loss: 1.799342] [Elapsed time: 2741.91s]\n",
            "[Epoch 177/200] [D loss: 0.389351] [G loss: 3.408869] [Elapsed time: 2757.40s]\n",
            "[Epoch 178/200] [D loss: 0.330771] [G loss: 2.346410] [Elapsed time: 2774.44s]\n",
            "[Epoch 179/200] [D loss: 0.299136] [G loss: 1.426174] [Elapsed time: 2790.32s]\n",
            "[Epoch 180/200] [D loss: 0.254616] [G loss: 2.345704] [Elapsed time: 2806.04s]\n",
            "[Epoch 181/200] [D loss: 0.410091] [G loss: 1.002443] [Elapsed time: 2821.80s]\n",
            "[Epoch 182/200] [D loss: 0.255453] [G loss: 2.010562] [Elapsed time: 2838.34s]\n",
            "[Epoch 183/200] [D loss: 0.276066] [G loss: 1.920281] [Elapsed time: 2854.86s]\n",
            "[Epoch 184/200] [D loss: 0.292091] [G loss: 2.109063] [Elapsed time: 2870.59s]\n",
            "[Epoch 185/200] [D loss: 0.279379] [G loss: 1.630681] [Elapsed time: 2886.53s]\n",
            "[Epoch 186/200] [D loss: 0.297246] [G loss: 1.831501] [Elapsed time: 2902.51s]\n",
            "[Epoch 187/200] [D loss: 0.411369] [G loss: 1.211039] [Elapsed time: 2919.18s]\n",
            "[Epoch 188/200] [D loss: 0.260373] [G loss: 2.583059] [Elapsed time: 2934.93s]\n",
            "[Epoch 189/200] [D loss: 0.308596] [G loss: 1.621396] [Elapsed time: 2950.90s]\n",
            "[Epoch 190/200] [D loss: 0.168538] [G loss: 3.243918] [Elapsed time: 2967.05s]\n",
            "[Epoch 191/200] [D loss: 0.259944] [G loss: 2.112051] [Elapsed time: 2983.92s]\n",
            "[Epoch 192/200] [D loss: 0.247637] [G loss: 2.264013] [Elapsed time: 2999.56s]\n",
            "[Epoch 193/200] [D loss: 0.251640] [G loss: 1.801582] [Elapsed time: 3015.37s]\n",
            "[Epoch 194/200] [D loss: 0.270898] [G loss: 1.945235] [Elapsed time: 3031.32s]\n",
            "[Epoch 195/200] [D loss: 0.237592] [G loss: 2.470590] [Elapsed time: 3048.23s]\n",
            "[Epoch 196/200] [D loss: 0.275584] [G loss: 2.222949] [Elapsed time: 3063.88s]\n",
            "[Epoch 197/200] [D loss: 0.243343] [G loss: 2.779021] [Elapsed time: 3079.71s]\n",
            "[Epoch 198/200] [D loss: 0.240021] [G loss: 2.186151] [Elapsed time: 3095.80s]\n",
            "[Epoch 199/200] [D loss: 0.251811] [G loss: 1.890548] [Elapsed time: 3112.63s]\n"
          ]
        }
      ]
    },
    {
      "cell_type": "markdown",
      "source": [
        "\n",
        "\n",
        "*   생성된 이미지 예시\n"
      ],
      "metadata": {
        "id": "0__Q1-Fd_-c5"
      }
    },
    {
      "cell_type": "code",
      "source": [
        "from IPython.display import Image\n",
        "\n",
        "Image('92000.png')"
      ],
      "metadata": {
        "colab": {
          "base_uri": "https://localhost:8080/",
          "height": 169
        },
        "id": "8bHSOTsZACRo",
        "outputId": "ed5bba72-9db7-4c3f-f0d7-7c5cc5827897"
      },
      "execution_count": 7,
      "outputs": [
        {
          "output_type": "execute_result",
          "data": {
            "image/png": "[encoded data removed]",
            "text/plain": [
              "<IPython.core.display.Image object>"
            ]
          },
          "metadata": {},
          "execution_count": 7
        }
      ]
    },
    {
      "cell_type": "code",
      "source": [],
      "metadata": {
        "id": "5RbD-YFtAEt9"
      },
      "execution_count": null,
      "outputs": []
    }
  ]
}